{
 "cells": [
  {
   "cell_type": "markdown",
   "metadata": {
    "kernel": "SoS"
   },
   "source": [
    "# Polygenic Risk Score Analysis on Height GWAS data\n",
    "\n",
    "Here we show an example of our [LDpred2 pipeline](https://github.com/cumc/bioworkflows/blob/master/ldpred/ldpred.ipynb) for height PRS on [an example public data-set](https://drive.google.com/file/d/1x_G0Gxk9jFMY-PMqwtg6-vdEyUPp5p5u/view) from github user [@choishingwan](https://github.com/choishingwan).\n",
    "\n",
    "Analysis in this tutorial is performed by running our pipeline sequentially on a single computer (a desktop, laptop, or a single interactive node on a cluster). The pipeline iteself, implemented in the SoS workflow language, can be configured to run in parallel on a high performance computing cluster environment. Please read the [SoS documentation](https://vatlab.github.io/sos-docs/doc/user_guide/host_setup.html) on how to configure the software and workflow to efficiently perform the analysis for real-world data."
   ]
  },
  {
   "cell_type": "markdown",
   "metadata": {
    "kernel": "SoS"
   },
   "source": [
    "## Data used"
   ]
  },
  {
   "cell_type": "markdown",
   "metadata": {
    "kernel": "SoS"
   },
   "source": [
    "### Reference panel\n",
    "\n",
    "Obtained via `download_1000G()` in `bigsnpr`. \n",
    "\n",
    "We extracted unrelated European individuals (~500  samples) and ~1.7M SNPs in common with either HapMap3 or the UK Biobank. Classification of European population can be found at [IGSR](https://www.internationalgenome.org/category/population/). European individuals ID are from [IGSR data portal](https://www.internationalgenome.org/data-portal/sample).\n",
    "\n",
    "### GWAS summary statistics data\n",
    "\n",
    "`Height.QC.gz`, from public data-set provided by github user [@choishingwan](https://github.com/choishingwan), of height GWAS in European samples.\n",
    "\n",
    "### Target test data\n",
    "\n",
    "`EUR.height`, `EUR.cov`, and `EUR.eigenvec` contain phenotypes, covariates and genotype principle components of samples. `EUR.QC.*` contain the corresponding genotypes, with ~400,000 variants. We have thinned the genotype data to ~150,000 variants for speeding up the examples used in this tutorial. The resulting genotypes are in `EUR_prune.*`."
   ]
  },
  {
   "cell_type": "markdown",
   "metadata": {
    "kernel": "SoS"
   },
   "source": [
    "## PRS Models applied\n",
    "\n",
    "Auto model runs the algorithm for 30 different $p$ (the proportion of causal variants) values range from 10e-4 to 0.9, and heritability $h^2$ from LD score regression as initial value.\n",
    "\n",
    "Grid model tries a grid of parameters $p$, ranges from 0 to 1 and three $h^2$ which are 0.7/1/1.4 times of initial $h^2$ estimated by LD score regression."
   ]
  },
  {
   "cell_type": "markdown",
   "metadata": {
    "kernel": "SoS"
   },
   "source": [
    "## Data preparation"
   ]
  },
  {
   "cell_type": "markdown",
   "metadata": {
    "kernel": "R"
   },
   "source": [
    "Please download the [tutorial data](http://statgen.us/files/2021/01/ldpred2.tar.gz) and [pipeline script](https://github.com/cumc/bioworkflows/blob/master/ldpred/ldpred.ipynb) to your computer. We have pre-downloaded and extracted the European genotypes from 1000 Genomes, as well as genetic map data. We have preprocessed the GWAS data as follows, to fit in our pipeline."
   ]
  },
  {
   "cell_type": "markdown",
   "metadata": {
    "kernel": "SoS"
   },
   "source": [
    "**Please do not run any code from this section. The data bundle above contains all the preprocessed files for you to start the PRS analysis (next section). Code below are documented here for book-keeping and reproducibility.**"
   ]
  },
  {
   "cell_type": "markdown",
   "metadata": {
    "kernel": "SoS"
   },
   "source": [
    "### Summary statistics formatting"
   ]
  },
  {
   "cell_type": "code",
   "execution_count": null,
   "metadata": {
    "kernel": "R"
   },
   "outputs": [],
   "source": [
    "sumstats <- bigreadr::fread2(\"GWAS_data/Height.QC.gz\") \n",
    "# LDpred2 require the header to follow the exact naming\n",
    "names(sumstats) <-\n",
    "    c(\"chr\",\n",
    "    \"pos\",\n",
    "    \"rsid\",\n",
    "    \"a1\",\n",
    "    \"a0\",\n",
    "    \"n_eff\",\n",
    "    \"beta_se\",\n",
    "    \"p\",\n",
    "    \"OR\",\n",
    "    \"INFO\",\n",
    "    \"MAF\")\n",
    "# Transform the OR into log(OR)\n",
    "sumstats$beta <- log(sumstats$OR)"
   ]
  },
  {
   "cell_type": "code",
   "execution_count": null,
   "metadata": {
    "kernel": "R"
   },
   "outputs": [],
   "source": [
    "saveRDS(sumstats, \"GWAS_data/Height.QC.rds\")"
   ]
  },
  {
   "cell_type": "markdown",
   "metadata": {
    "kernel": "R"
   },
   "source": [
    "### Phenotype and covariates formatting"
   ]
  },
  {
   "cell_type": "code",
   "execution_count": null,
   "metadata": {
    "kernel": "R"
   },
   "outputs": [],
   "source": [
    "options(stringsAsFactors=F)\n",
    "fam = read.table(\"GWAS_data/EUR_prune.fam\", header=F)\n",
    "colnames(fam) = c(\"FID\", \"IID\", \"PID\", \"MID\", \"S\", \"D\")\n",
    "pheno = read.table(\"GWAS_data/EUR.height\", header=T)\n",
    "covar = read.table(\"GWAS_data/EUR.cov\", header=T)\n",
    "pcs = read.table(\"GWAS_data/EUR.eigenvec\", header=F)\n",
    "colnames(pcs) = c(\"FID\", \"IID\", \"PC1\", \"PC2\", \"PC3\", \"PC4\", \"PC5\", \"PC6\")"
   ]
  },
  {
   "cell_type": "code",
   "execution_count": null,
   "metadata": {
    "kernel": "R"
   },
   "outputs": [],
   "source": [
    "require(dplyr)\n",
    "pheno_out = left_join(fam, pheno, by = c(\"FID\", \"IID\"))\n",
    "pheno_out = left_join(pheno_out, covar, by = c(\"FID\", \"IID\"))\n",
    "pheno_out = left_join(pheno_out, pcs, by = c(\"FID\", \"IID\"))"
   ]
  },
  {
   "cell_type": "code",
   "execution_count": null,
   "metadata": {
    "kernel": "R"
   },
   "outputs": [],
   "source": [
    "write.table(pheno_out[, \"Height\"], \"GWAS_data/EUR.height.matched.txt\", col.names=\"Height\",row.names=F)\n",
    "write.table(pheno_out[, c(\"Sex\",'PC1', 'PC2', 'PC3', 'PC4', 'PC5', 'PC6')], \"GWAS_data/EUR.cov.matched.txt\", col.names=T,row.names=F)"
   ]
  },
  {
   "cell_type": "markdown",
   "metadata": {
    "kernel": "SoS"
   },
   "source": [
    "The directory should have the following:"
   ]
  },
  {
   "cell_type": "code",
   "execution_count": null,
   "metadata": {
    "kernel": "Bash"
   },
   "outputs": [],
   "source": [
    "tree"
   ]
  },
  {
   "cell_type": "markdown",
   "metadata": {
    "kernel": "Bash"
   },
   "source": [
    "## Analysis of height GWAS data\n",
    "\n",
    "We set the work directory to `height_results` folder (to be created by the workflow). This will also be used as part of the filenames in the outputs to identify this analysis."
   ]
  },
  {
   "cell_type": "code",
   "execution_count": null,
   "metadata": {
    "kernel": "Bash"
   },
   "outputs": [],
   "source": [
    "work_dir=\"height_results\""
   ]
  },
  {
   "cell_type": "markdown",
   "metadata": {
    "kernel": "Bash"
   },
   "source": [
    "### Step 1: QC on reference panel\n",
    "\n",
    "Here we assume the GWAS genotype data `EUR.*` has already been QC-ed. We perform here QC for reference panel,"
   ]
  },
  {
   "cell_type": "code",
   "execution_count": null,
   "metadata": {
    "kernel": "Bash"
   },
   "outputs": [],
   "source": [
    "sos run ldpred.ipynb snp_qc \\\n",
    "    --cwd $work_dir \\\n",
    "    --genoFiles 1000G.EUR/1000G.EUR.bed"
   ]
  },
  {
   "cell_type": "markdown",
   "metadata": {
    "kernel": "Bash"
   },
   "source": [
    "The output of a command in our pipeline is highlighted in the green text above, in this case, ` /home/jovyan/work/height_results/1000G.EUR.height_results.bed`. These are typically intermediate files generated and kept by the pipeline program. In this tutorial we will show contents from these outputs only when they are relevant to the final results, although in practice users are always encouraged to check these immediate files to ensure of no obvious sign of problems in each analysis step."
   ]
  },
  {
   "cell_type": "markdown",
   "metadata": {
    "kernel": "Bash"
   },
   "source": [
    "### Step 2: Intersect SNPs among summary stats, reference panel and target data\n",
    "\n",
    "SNPs shared between summary statistics, reference panels and target genotype data (for which PRS will be computed) are extracted. Genetic distances will be computed for each variant using interpolated genetic map. **This step can take a bit of time to execute**."
   ]
  },
  {
   "cell_type": "code",
   "execution_count": null,
   "metadata": {
    "kernel": "Bash"
   },
   "outputs": [],
   "source": [
    "sos run ldpred.ipynb snp_intersect \\\n",
    "    --cwd $work_dir \\\n",
    "    --ss GWAS_data/Height.QC.rds \\\n",
    "    --genoFiles $work_dir/1000G.EUR.$work_dir.bed GWAS_data/EUR_prune.bed"
   ]
  },
  {
   "cell_type": "code",
   "execution_count": null,
   "metadata": {
    "kernel": "Bash"
   },
   "outputs": [],
   "source": [
    "cat $work_dir/Height.QC.intersect.stdout"
   ]
  },
  {
   "cell_type": "markdown",
   "metadata": {
    "kernel": "Bash"
   },
   "source": [
    "### Step 3: Harmonize alleles for shared SNPs\n",
    "\n",
    "To handle major/minor allele, strand flips and consequently possible flips in sign for summary statistics."
   ]
  },
  {
   "cell_type": "code",
   "execution_count": null,
   "metadata": {
    "kernel": "Bash"
   },
   "outputs": [],
   "source": [
    "sos run ldpred.ipynb snp_match \\\n",
    "    --cwd $work_dir \\\n",
    "    --reference_geno $work_dir/1000G.EUR.$work_dir.snp_intersect.extracted.rds \\\n",
    "    --ss GWAS_data/Height.QC.rds"
   ]
  },
  {
   "cell_type": "markdown",
   "metadata": {
    "kernel": "Bash"
   },
   "source": [
    "### Step 4: Summary statistics quality control (optional)\n",
    "\n",
    "Please refer to documentation in the pipeline notebook [`ldpred.ipynb`](https://github.com/cumc/bioworkflows/blob/master/ldpred/ldpred.ipynb) for an explanation of summary statistics QC."
   ]
  },
  {
   "cell_type": "code",
   "execution_count": null,
   "metadata": {
    "kernel": "Bash"
   },
   "outputs": [],
   "source": [
    "sos run ldpred.ipynb sumstats_qc \\\n",
    "    --cwd $work_dir \\\n",
    "    --reference_geno $work_dir/1000G.EUR.$work_dir.snp_intersect.extracted.rds \\\n",
    "    --ss $work_dir/Height.QC.snp_matched.rds \\\n",
    "    --sdy 1"
   ]
  },
  {
   "cell_type": "code",
   "execution_count": null,
   "metadata": {
    "kernel": "SoS"
   },
   "outputs": [],
   "source": [
    "%preview height_results/Height.QC.snp_matched.qc.png"
   ]
  },
  {
   "cell_type": "markdown",
   "metadata": {
    "kernel": "SoS"
   },
   "source": [
    "From the results, we observe only a few outliers significantly deviating from the majority of the variants. We suspect that quality control recommanded in [LDpred2 manuscript](https://academic.oup.com/bioinformatics/article/36/22-23/5424/6039173) may be too stringent and should not be needed for this data-set. Notice that as the manuscript pointed out, the quality control procedure is not suitable for meta-analyzed GWAS summary statistics."
   ]
  },
  {
   "cell_type": "markdown",
   "metadata": {
    "kernel": "Bash"
   },
   "source": [
    "### Step 5: Calculate LD matrix and fit LDSC model\n",
    "\n",
    "As an illustration, hereafter all analysis are performed on both summary statistics before QC in Step 4:"
   ]
  },
  {
   "cell_type": "code",
   "execution_count": null,
   "metadata": {
    "kernel": "Bash"
   },
   "outputs": [],
   "source": [
    "sos run ldpred.ipynb ldsc \\\n",
    "    --cwd $work_dir \\\n",
    "    --ss $work_dir/Height.QC.snp_matched.rds \\\n",
    "    --reference-geno $work_dir/1000G.EUR.$work_dir.snp_intersect.extracted.rds"
   ]
  },
  {
   "cell_type": "markdown",
   "metadata": {
    "kernel": "Bash"
   },
   "source": [
    "and after QC in Step 4:"
   ]
  },
  {
   "cell_type": "code",
   "execution_count": null,
   "metadata": {
    "kernel": "Bash"
   },
   "outputs": [],
   "source": [
    "sos run ldpred.ipynb ldsc \\\n",
    "    --cwd $work_dir \\\n",
    "    --ss $work_dir/Height.QC.snp_matched.qc.rds \\\n",
    "    --reference-geno $work_dir/1000G.EUR.$work_dir.snp_intersect.extracted.rds"
   ]
  },
  {
   "cell_type": "markdown",
   "metadata": {
    "kernel": "Bash"
   },
   "source": [
    "### Step 6: Estimate posterior effect sizes and PRS\n",
    "\n",
    "For QC-ed data, we perform 3 PRS models implemented in `ldpred2`. We demonstrate the infinitesimal model here:"
   ]
  },
  {
   "cell_type": "code",
   "execution_count": null,
   "metadata": {
    "kernel": "Bash"
   },
   "outputs": [],
   "source": [
    "sos run ldpred.ipynb inf_prs \\\n",
    "    --cwd $work_dir \\\n",
    "    --ss $work_dir/Height.QC.snp_matched.qc.rds \\\n",
    "    --target-geno $work_dir/EUR_prune.snp_intersect.extracted.rds \\\n",
    "    --ldsc $work_dir/Height.QC.snp_matched.qc.ld.rds"
   ]
  },
  {
   "cell_type": "markdown",
   "metadata": {
    "kernel": "Bash"
   },
   "source": [
    "Here we examine the PRS generated from this command,"
   ]
  },
  {
   "cell_type": "code",
   "execution_count": null,
   "metadata": {
    "kernel": "Bash"
   },
   "outputs": [],
   "source": [
    "cat $work_dir/Height.QC.snp_matched.qc.inf_prs.stdout"
   ]
  },
  {
   "cell_type": "code",
   "execution_count": null,
   "metadata": {
    "kernel": "R"
   },
   "outputs": [],
   "source": [
    "dat = readRDS('height_results/Height.QC.snp_matched.qc.inf_prs.rds')\n",
    "names(dat)"
   ]
  },
  {
   "cell_type": "code",
   "execution_count": null,
   "metadata": {
    "kernel": "R"
   },
   "outputs": [],
   "source": [
    "hist(dat$prs, breaks=20, main=\"PRS distribution\", xlab=\"PRS\")"
   ]
  },
  {
   "cell_type": "markdown",
   "metadata": {
    "kernel": "Bash"
   },
   "source": [
    "Commands below will execute the \"auto\" model and \"grid\" model implemented in `LDpred2`. They are typically more powerful but also computationally intensive. We document them here without executing:\n",
    "\n",
    "```\n",
    "sos run ldpred.ipynb auto_prs \\\n",
    "    --cwd $work_dir \\\n",
    "    --ss $work_dir/Height.QC.snp_matched.qc.rds \\\n",
    "    --target-geno $work_dir/EUR_prune.snp_intersect.extracted.rds \\\n",
    "    --ldsc $work_dir/Height.QC.snp_matched.qc.ld.rds\n",
    "```\n",
    "\n",
    "```\n",
    "sos run ldpred.ipynb grid_prs \\\n",
    "    --cwd $work_dir \\\n",
    "    --ss $work_dir/Height.QC.snp_matched.qc.rds \\\n",
    "    --target-geno $work_dir/EUR_prune.snp_intersect.extracted.rds \\\n",
    "    --ldsc $work_dir/Height.QC.snp_matched.qc.ld.rds \\\n",
    "    --phenoFile GWAS_data/EUR.height.matched.txt \\\n",
    "    --covFile GWAS_data/EUR.cov.matched.txt \\\n",
    "    --response continuous\n",
    "```"
   ]
  },
  {
   "cell_type": "markdown",
   "metadata": {
    "kernel": "Bash"
   },
   "source": [
    "We then run the infinitesimal model for original data:"
   ]
  },
  {
   "cell_type": "code",
   "execution_count": null,
   "metadata": {
    "kernel": "Bash"
   },
   "outputs": [],
   "source": [
    "sos run ldpred.ipynb inf_prs \\\n",
    "    --cwd $work_dir \\\n",
    "    --ss $work_dir/Height.QC.snp_matched.rds \\\n",
    "    --target-geno $work_dir/EUR_prune.snp_intersect.extracted.rds \\\n",
    "    --ldsc $work_dir/Height.QC.snp_matched.ld.rds"
   ]
  },
  {
   "cell_type": "code",
   "execution_count": null,
   "metadata": {
    "kernel": "Bash"
   },
   "outputs": [],
   "source": [
    "cat $work_dir/Height.QC.snp_matched.inf_prs.stdout"
   ]
  },
  {
   "cell_type": "code",
   "execution_count": null,
   "metadata": {
    "kernel": "R"
   },
   "outputs": [],
   "source": [
    "dat = readRDS('height_results/Height.QC.snp_matched.inf_prs.rds')\n",
    "hist(dat$prs, breaks=20, main=\"PRS distribution (without summary statistics QC)\", xlab=\"PRS\")"
   ]
  },
  {
   "cell_type": "markdown",
   "metadata": {
    "kernel": "Bash"
   },
   "source": [
    "Again, here are commands for \"auto\" and \"grid\" models:\n",
    "\n",
    "```\n",
    "sos run ldpred.ipynb auto_prs \\\n",
    "    --cwd $work_dir \\\n",
    "    --ss $work_dir/Height.QC.snp_matched.rds \\\n",
    "    --target-geno $work_dir/EUR_prune.snp_intersect.extracted.rds \\\n",
    "    --ldsc $work_dir/Height.QC.snp_matched.ld.rds\n",
    "```\n",
    "\n",
    "```\n",
    "sos run ldpred.ipynb grid_prs \\\n",
    "    --cwd $work_dir \\\n",
    "    --ss $work_dir/Height.QC.snp_matched.rds \\\n",
    "    --target-geno $work_dir/EUR_prune.snp_intersect.extracted.rds \\\n",
    "    --ldsc $work_dir/Height.QC.snp_matched.ld.rds \\\n",
    "    --phenoFile GWAS_data/EUR.height.matched.txt \\\n",
    "    --covFile GWAS_data/EUR.cov.matched.txt \\\n",
    "    --response continuous\n",
    "```"
   ]
  },
  {
   "cell_type": "markdown",
   "metadata": {
    "kernel": "Bash"
   },
   "source": [
    "**For `grid` model, in practice we should use another subset of individuals to train the model, independent from the subset to make PRS predictions. Here we use the same target genotype data only to illustrate the workflow.**"
   ]
  },
  {
   "cell_type": "markdown",
   "metadata": {
    "kernel": "Bash"
   },
   "source": [
    "### Step 7: predict phenotypes"
   ]
  },
  {
   "cell_type": "markdown",
   "metadata": {
    "kernel": "Bash"
   },
   "source": [
    "Baseline model: Trait ~ Sex + PCs"
   ]
  },
  {
   "cell_type": "code",
   "execution_count": null,
   "metadata": {
    "kernel": "Bash"
   },
   "outputs": [],
   "source": [
    "sos run ldpred.ipynb pred_eval \\\n",
    "    --cwd $work_dir \\\n",
    "    --phenoFile GWAS_data/EUR.height.matched.txt \\\n",
    "    --covFile GWAS_data/EUR.cov.matched.txt \\\n",
    "    --response continuous"
   ]
  },
  {
   "cell_type": "code",
   "execution_count": null,
   "metadata": {
    "kernel": "R"
   },
   "outputs": [],
   "source": [
    "res = readRDS(\"height_results/EUR.height.matched.baseline.rds\")\n",
    "summary(res$fitted)\n",
    "res$summary"
   ]
  },
  {
   "cell_type": "markdown",
   "metadata": {
    "kernel": "Bash"
   },
   "source": [
    "Infinitesimal model: Trait ~ Sex + PCs + PRS"
   ]
  },
  {
   "cell_type": "code",
   "execution_count": null,
   "metadata": {
    "kernel": "Bash"
   },
   "outputs": [],
   "source": [
    "sos run ldpred.ipynb pred_eval \\\n",
    "    --cwd $work_dir \\\n",
    "    --prs $work_dir/Height.QC.snp_matched.qc.inf_prs.rds \\\n",
    "    --phenoFile GWAS_data/EUR.height.matched.txt \\\n",
    "    --covFile GWAS_data/EUR.cov.matched.txt \\\n",
    "    --response continuous\n",
    "\n",
    "sos run ldpred.ipynb pred_eval \\\n",
    "    --cwd $work_dir \\\n",
    "    --prs $work_dir/Height.QC.snp_matched.inf_prs.rds \\\n",
    "    --phenoFile GWAS_data/EUR.height.matched.txt \\\n",
    "    --covFile GWAS_data/EUR.cov.matched.txt \\\n",
    "    --response continuous"
   ]
  },
  {
   "cell_type": "code",
   "execution_count": null,
   "metadata": {
    "kernel": "R"
   },
   "outputs": [],
   "source": [
    "res = readRDS(\"height_results/EUR.height.matched.Height.QC.snp_matched.qc.inf_prs.rds\")\n",
    "summary(res$fitted)\n",
    "res$summary"
   ]
  },
  {
   "cell_type": "code",
   "execution_count": null,
   "metadata": {
    "kernel": "R"
   },
   "outputs": [],
   "source": [
    "res = readRDS(\"height_results/EUR.height.matched.Height.QC.snp_matched.inf_prs.rds\")\n",
    "summary(res$fitted)\n",
    "res$summary"
   ]
  },
  {
   "cell_type": "markdown",
   "metadata": {
    "kernel": "Bash"
   },
   "source": [
    "Here are commands for running prediction with \"auto\" and \"grid\" models:\n",
    "\n",
    "```\n",
    "sos run ldpred.ipynb pred_eval \\\n",
    "    --cwd $work_dir \\\n",
    "    --prs $work_dir/Height.QC.snp_matched.qc.auto_prs.rds \\\n",
    "    --phenoFile GWAS_data/EUR.height.matched.txt \\\n",
    "    --covFile GWAS_data/EUR.cov.matched.txt \\\n",
    "    --response continuous\n",
    "\n",
    "sos run ldpred.ipynb pred_eval \\\n",
    "    --cwd $work_dir \\\n",
    "    --prs $work_dir/Height.QC.snp_matched.auto_prs.rds \\\n",
    "    --phenoFile GWAS_data/EUR.height.matched.txt \\\n",
    "    --covFile GWAS_data/EUR.cov.matched.txt \\\n",
    "    --response continuous\n",
    "\n",
    "sos run ldpred.ipynb pred_eval \\\n",
    "    --cwd $work_dir \\\n",
    "    --prs $work_dir/Height.QC.snp_matched.qc.grid_prs.rds \\\n",
    "    --phenoFile GWAS_data/EUR.height.matched.txt \\\n",
    "    --covFile GWAS_data/EUR.cov.matched.txt \\\n",
    "    --response continuous\n",
    "\n",
    "sos run ldpred.ipynb pred_eval \\\n",
    "    --cwd $work_dir \\\n",
    "    --prs $work_dir/Height.QC.snp_matched.grid_prs.rds \\\n",
    "    --phenoFile GWAS_data/EUR.height.matched.txt \\\n",
    "    --covFile GWAS_data/EUR.cov.matched.txt \\\n",
    "    --response continuous\n",
    "```"
   ]
  },
  {
   "cell_type": "markdown",
   "metadata": {
    "kernel": "Bash"
   },
   "source": [
    "## Results summary"
   ]
  },
  {
   "cell_type": "markdown",
   "metadata": {
    "kernel": "Bash"
   },
   "source": [
    "Following table shows adjusted R squared of height prediction models. \"QC\" refers to quality control in Step 4.\n",
    "\n",
    "Compared to baseline model, higher R squared with PRS included implies PRS explains part of the variation of height in the target data-set. Higher R squared is observed without performing quality control for the summary statistics, as we already expected and discussed after seeing the results in Step 4. "
   ]
  },
  {
   "cell_type": "markdown",
   "metadata": {
    "kernel": "Bash"
   },
   "source": [
    "| QC? |   # of SNPs  |   Baseline R2 |   Inf R2  |   Grid R2 |   Auto R2 |\n",
    "|:---:|:------------:|:-------:|:-------:|:-------:|:-------:|\n",
    "| Yes | 104,564 | 0.2296 | 0.3581 | -  | - |\n",
    "|  No | 109,963 | 0.2296 | 0.3619 |    -  |    -   |"
   ]
  },
  {
   "cell_type": "markdown",
   "metadata": {
    "kernel": "R"
   },
   "source": [
    "## Homework\n",
    "\n",
    "Please complete the runs with `grid` and `auto` model and complete the table above. **Computation with these models are intensive and long-running; it is suggested that the analysis be performed in a powerful computing environment**."
   ]
  }
 ],
 "metadata": {
  "kernelspec": {
   "display_name": "SoS",
   "language": "sos",
   "name": "sos"
  },
  "language_info": {
   "codemirror_mode": "sos",
   "file_extension": ".sos",
   "mimetype": "text/x-sos",
   "name": "sos",
   "nbconvert_exporter": "sos_notebook.converter.SoS_Exporter",
   "pygments_lexer": "sos"
  },
  "sos": {
   "kernels": [
    [
     "Bash",
     "bash",
     "Bash",
     "#E6EEFF",
     "shell"
    ],
    [
     "R",
     "ir",
     "R",
     "#DCDCDA",
     "r"
    ],
    [
     "SoS",
     "sos",
     "",
     "",
     "sos"
    ]
   ],
   "version": "0.21.7"
  },
  "toc-autonumbering": false
 },
 "nbformat": 4,
 "nbformat_minor": 5
}
